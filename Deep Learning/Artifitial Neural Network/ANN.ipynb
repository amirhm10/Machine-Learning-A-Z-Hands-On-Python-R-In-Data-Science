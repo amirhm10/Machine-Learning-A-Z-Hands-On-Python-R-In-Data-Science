{
 "cells": [
  {
   "cell_type": "markdown",
   "metadata": {},
   "source": [
    "# Import libraries"
   ]
  },
  {
   "cell_type": "code",
   "execution_count": 2,
   "metadata": {},
   "outputs": [],
   "source": [
    "import numpy as np\n",
    "import pandas as pd\n",
    "import matplotlib.pyplot as plt\n",
    "import seaborn as sns\n",
    "%matplotlib inline"
   ]
  },
  {
   "cell_type": "markdown",
   "metadata": {},
   "source": [
    "# Second Step: Data Preprocessing"
   ]
  },
  {
   "cell_type": "code",
   "execution_count": 3,
   "metadata": {},
   "outputs": [],
   "source": [
    "df=pd.read_csv(\"Churn_Modelling.csv\")"
   ]
  },
  {
   "cell_type": "code",
   "execution_count": 4,
   "metadata": {},
   "outputs": [
    {
     "data": {
      "text/html": [
       "<div>\n",
       "<style scoped>\n",
       "    .dataframe tbody tr th:only-of-type {\n",
       "        vertical-align: middle;\n",
       "    }\n",
       "\n",
       "    .dataframe tbody tr th {\n",
       "        vertical-align: top;\n",
       "    }\n",
       "\n",
       "    .dataframe thead th {\n",
       "        text-align: right;\n",
       "    }\n",
       "</style>\n",
       "<table border=\"1\" class=\"dataframe\">\n",
       "  <thead>\n",
       "    <tr style=\"text-align: right;\">\n",
       "      <th></th>\n",
       "      <th>RowNumber</th>\n",
       "      <th>CustomerId</th>\n",
       "      <th>Surname</th>\n",
       "      <th>CreditScore</th>\n",
       "      <th>Geography</th>\n",
       "      <th>Gender</th>\n",
       "      <th>Age</th>\n",
       "      <th>Tenure</th>\n",
       "      <th>Balance</th>\n",
       "      <th>NumOfProducts</th>\n",
       "      <th>HasCrCard</th>\n",
       "      <th>IsActiveMember</th>\n",
       "      <th>EstimatedSalary</th>\n",
       "      <th>Exited</th>\n",
       "    </tr>\n",
       "  </thead>\n",
       "  <tbody>\n",
       "    <tr>\n",
       "      <th>0</th>\n",
       "      <td>1</td>\n",
       "      <td>15634602</td>\n",
       "      <td>Hargrave</td>\n",
       "      <td>619</td>\n",
       "      <td>France</td>\n",
       "      <td>Female</td>\n",
       "      <td>42</td>\n",
       "      <td>2</td>\n",
       "      <td>0.00</td>\n",
       "      <td>1</td>\n",
       "      <td>1</td>\n",
       "      <td>1</td>\n",
       "      <td>101348.88</td>\n",
       "      <td>1</td>\n",
       "    </tr>\n",
       "    <tr>\n",
       "      <th>1</th>\n",
       "      <td>2</td>\n",
       "      <td>15647311</td>\n",
       "      <td>Hill</td>\n",
       "      <td>608</td>\n",
       "      <td>Spain</td>\n",
       "      <td>Female</td>\n",
       "      <td>41</td>\n",
       "      <td>1</td>\n",
       "      <td>83807.86</td>\n",
       "      <td>1</td>\n",
       "      <td>0</td>\n",
       "      <td>1</td>\n",
       "      <td>112542.58</td>\n",
       "      <td>0</td>\n",
       "    </tr>\n",
       "    <tr>\n",
       "      <th>2</th>\n",
       "      <td>3</td>\n",
       "      <td>15619304</td>\n",
       "      <td>Onio</td>\n",
       "      <td>502</td>\n",
       "      <td>France</td>\n",
       "      <td>Female</td>\n",
       "      <td>42</td>\n",
       "      <td>8</td>\n",
       "      <td>159660.80</td>\n",
       "      <td>3</td>\n",
       "      <td>1</td>\n",
       "      <td>0</td>\n",
       "      <td>113931.57</td>\n",
       "      <td>1</td>\n",
       "    </tr>\n",
       "    <tr>\n",
       "      <th>3</th>\n",
       "      <td>4</td>\n",
       "      <td>15701354</td>\n",
       "      <td>Boni</td>\n",
       "      <td>699</td>\n",
       "      <td>France</td>\n",
       "      <td>Female</td>\n",
       "      <td>39</td>\n",
       "      <td>1</td>\n",
       "      <td>0.00</td>\n",
       "      <td>2</td>\n",
       "      <td>0</td>\n",
       "      <td>0</td>\n",
       "      <td>93826.63</td>\n",
       "      <td>0</td>\n",
       "    </tr>\n",
       "    <tr>\n",
       "      <th>4</th>\n",
       "      <td>5</td>\n",
       "      <td>15737888</td>\n",
       "      <td>Mitchell</td>\n",
       "      <td>850</td>\n",
       "      <td>Spain</td>\n",
       "      <td>Female</td>\n",
       "      <td>43</td>\n",
       "      <td>2</td>\n",
       "      <td>125510.82</td>\n",
       "      <td>1</td>\n",
       "      <td>1</td>\n",
       "      <td>1</td>\n",
       "      <td>79084.10</td>\n",
       "      <td>0</td>\n",
       "    </tr>\n",
       "    <tr>\n",
       "      <th>...</th>\n",
       "      <td>...</td>\n",
       "      <td>...</td>\n",
       "      <td>...</td>\n",
       "      <td>...</td>\n",
       "      <td>...</td>\n",
       "      <td>...</td>\n",
       "      <td>...</td>\n",
       "      <td>...</td>\n",
       "      <td>...</td>\n",
       "      <td>...</td>\n",
       "      <td>...</td>\n",
       "      <td>...</td>\n",
       "      <td>...</td>\n",
       "      <td>...</td>\n",
       "    </tr>\n",
       "    <tr>\n",
       "      <th>9995</th>\n",
       "      <td>9996</td>\n",
       "      <td>15606229</td>\n",
       "      <td>Obijiaku</td>\n",
       "      <td>771</td>\n",
       "      <td>France</td>\n",
       "      <td>Male</td>\n",
       "      <td>39</td>\n",
       "      <td>5</td>\n",
       "      <td>0.00</td>\n",
       "      <td>2</td>\n",
       "      <td>1</td>\n",
       "      <td>0</td>\n",
       "      <td>96270.64</td>\n",
       "      <td>0</td>\n",
       "    </tr>\n",
       "    <tr>\n",
       "      <th>9996</th>\n",
       "      <td>9997</td>\n",
       "      <td>15569892</td>\n",
       "      <td>Johnstone</td>\n",
       "      <td>516</td>\n",
       "      <td>France</td>\n",
       "      <td>Male</td>\n",
       "      <td>35</td>\n",
       "      <td>10</td>\n",
       "      <td>57369.61</td>\n",
       "      <td>1</td>\n",
       "      <td>1</td>\n",
       "      <td>1</td>\n",
       "      <td>101699.77</td>\n",
       "      <td>0</td>\n",
       "    </tr>\n",
       "    <tr>\n",
       "      <th>9997</th>\n",
       "      <td>9998</td>\n",
       "      <td>15584532</td>\n",
       "      <td>Liu</td>\n",
       "      <td>709</td>\n",
       "      <td>France</td>\n",
       "      <td>Female</td>\n",
       "      <td>36</td>\n",
       "      <td>7</td>\n",
       "      <td>0.00</td>\n",
       "      <td>1</td>\n",
       "      <td>0</td>\n",
       "      <td>1</td>\n",
       "      <td>42085.58</td>\n",
       "      <td>1</td>\n",
       "    </tr>\n",
       "    <tr>\n",
       "      <th>9998</th>\n",
       "      <td>9999</td>\n",
       "      <td>15682355</td>\n",
       "      <td>Sabbatini</td>\n",
       "      <td>772</td>\n",
       "      <td>Germany</td>\n",
       "      <td>Male</td>\n",
       "      <td>42</td>\n",
       "      <td>3</td>\n",
       "      <td>75075.31</td>\n",
       "      <td>2</td>\n",
       "      <td>1</td>\n",
       "      <td>0</td>\n",
       "      <td>92888.52</td>\n",
       "      <td>1</td>\n",
       "    </tr>\n",
       "    <tr>\n",
       "      <th>9999</th>\n",
       "      <td>10000</td>\n",
       "      <td>15628319</td>\n",
       "      <td>Walker</td>\n",
       "      <td>792</td>\n",
       "      <td>France</td>\n",
       "      <td>Female</td>\n",
       "      <td>28</td>\n",
       "      <td>4</td>\n",
       "      <td>130142.79</td>\n",
       "      <td>1</td>\n",
       "      <td>1</td>\n",
       "      <td>0</td>\n",
       "      <td>38190.78</td>\n",
       "      <td>0</td>\n",
       "    </tr>\n",
       "  </tbody>\n",
       "</table>\n",
       "<p>10000 rows × 14 columns</p>\n",
       "</div>"
      ],
      "text/plain": [
       "      RowNumber  CustomerId    Surname  CreditScore Geography  Gender  Age  \\\n",
       "0             1    15634602   Hargrave          619    France  Female   42   \n",
       "1             2    15647311       Hill          608     Spain  Female   41   \n",
       "2             3    15619304       Onio          502    France  Female   42   \n",
       "3             4    15701354       Boni          699    France  Female   39   \n",
       "4             5    15737888   Mitchell          850     Spain  Female   43   \n",
       "...         ...         ...        ...          ...       ...     ...  ...   \n",
       "9995       9996    15606229   Obijiaku          771    France    Male   39   \n",
       "9996       9997    15569892  Johnstone          516    France    Male   35   \n",
       "9997       9998    15584532        Liu          709    France  Female   36   \n",
       "9998       9999    15682355  Sabbatini          772   Germany    Male   42   \n",
       "9999      10000    15628319     Walker          792    France  Female   28   \n",
       "\n",
       "      Tenure    Balance  NumOfProducts  HasCrCard  IsActiveMember  \\\n",
       "0          2       0.00              1          1               1   \n",
       "1          1   83807.86              1          0               1   \n",
       "2          8  159660.80              3          1               0   \n",
       "3          1       0.00              2          0               0   \n",
       "4          2  125510.82              1          1               1   \n",
       "...      ...        ...            ...        ...             ...   \n",
       "9995       5       0.00              2          1               0   \n",
       "9996      10   57369.61              1          1               1   \n",
       "9997       7       0.00              1          0               1   \n",
       "9998       3   75075.31              2          1               0   \n",
       "9999       4  130142.79              1          1               0   \n",
       "\n",
       "      EstimatedSalary  Exited  \n",
       "0           101348.88       1  \n",
       "1           112542.58       0  \n",
       "2           113931.57       1  \n",
       "3            93826.63       0  \n",
       "4            79084.10       0  \n",
       "...               ...     ...  \n",
       "9995         96270.64       0  \n",
       "9996        101699.77       0  \n",
       "9997         42085.58       1  \n",
       "9998         92888.52       1  \n",
       "9999         38190.78       0  \n",
       "\n",
       "[10000 rows x 14 columns]"
      ]
     },
     "execution_count": 4,
     "metadata": {},
     "output_type": "execute_result"
    }
   ],
   "source": [
    "df"
   ]
  },
  {
   "cell_type": "code",
   "execution_count": 152,
   "metadata": {},
   "outputs": [],
   "source": [
    "x=df.drop([\"CustomerId\",\"RowNumber\",\"Surname\",\"Exited\"],axis=1)\n",
    "y=df[\"Exited\"]"
   ]
  },
  {
   "cell_type": "markdown",
   "metadata": {},
   "source": [
    "### Categorical data to onehotencoder\n",
    "#### What is different between One Hot Encoding and Label Encoding"
   ]
  },
  {
   "cell_type": "markdown",
   "metadata": {},
   "source": [
    "# Label Encoding\n",
    "Label Encoding is a popular encoding technique for handling categorical variables. In this technique, each label is assigned a unique integer based on alphabetical ordering.\n",
    "Challenges with Label Encoding\n",
    "In the above scenario, the Country names do not have an order or rank. But, when label encoding is performed, the country names are ranked based on the alphabets. Due to this, there is a very high probability that the model captures the relationship between countries such as India < Japan < the US."
   ]
  },
  {
   "cell_type": "markdown",
   "metadata": {},
   "source": [
    "# One Hot Encoding\n",
    "One-Hot Encoding is another popular technique for treating categorical variables. It simply creates additional features based on the number of unique values in the categorical feature. Every unique value in the category will be added as a feature.\n",
    "One-Hot Encoding is the process of creating dummy variables."
   ]
  },
  {
   "cell_type": "markdown",
   "metadata": {},
   "source": [
    "## Challenges of One-Hot Encoding: Dummy Variable Trap\n",
    "One-Hot Encoding results in a Dummy Variable Trap as the outcome of one variable can easily be predicted with the help of the remaining variables.\n",
    "\n",
    "Dummy Variable Trap is a scenario in which variables are highly correlated to each other.\n",
    "The Dummy Variable Trap leads to the problem known as multicollinearity. Multicollinearity occurs where there is a dependency between the independent features. Multicollinearity is a serious issue in machine learning models like Linear Regression and Logistic Regression.\n",
    "\n",
    "So, in order to overcome the problem of multicollinearity, one of the dummy variables has to be dropped"
   ]
  },
  {
   "cell_type": "markdown",
   "metadata": {},
   "source": [
    "### Multicollinearity\n",
    "One of the common ways to check for multicollinearity is the Variance Inflation Factor (VIF):\n",
    "\n",
    "VIF=1, Very Less Multicollinearity\n",
    "VIF<5, Moderate Multicollinearity\n",
    "VIF>5, Extreme Multicollinearity (This is what we have to avoid)"
   ]
  },
  {
   "cell_type": "markdown",
   "metadata": {},
   "source": [
    "# When to use a Label Encoding vs. One Hot Encoding\n",
    "This question generally depends on your dataset and the model which you wish to apply. But still, a few points to note before choosing the right encoding technique for your model:\n",
    "\n",
    "### We apply One-Hot Encoding when:\n",
    "\n",
    "`1` The categorical feature is not ordinal (like the countries above)\n",
    "\n",
    "`2` The number of categorical features is less so one-hot encoding can be effectively applied\n",
    "### We apply Label Encoding when:\n",
    "\n",
    "`1` The categorical feature is ordinal (like Jr. kg, Sr. kg, Primary school, high school)\n",
    "\n",
    "`2` The number of categories is quite large as one-hot encoding can lead to high memory consumption"
   ]
  },
  {
   "cell_type": "code",
   "execution_count": 167,
   "metadata": {},
   "outputs": [],
   "source": [
    "from sklearn.compose import ColumnTransformer\n",
    "from sklearn.preprocessing import OneHotEncoder\n",
    "cat_feat=[\"Geography\",\"Gender\"]\n",
    "one_hot=OneHotEncoder()\n",
    "transformer=ColumnTransformer([(\"one_hot\",one_hot,cat_feat)],\n",
    "                              remainder=\"passthrough\")\n",
    "transformed_x=transformer.fit_transform(x)\n",
    "df_transformed_x=pd.DataFrame(transformed_x)\n"
   ]
  },
  {
   "cell_type": "code",
   "execution_count": 170,
   "metadata": {
    "scrolled": false
   },
   "outputs": [
    {
     "data": {
      "text/html": [
       "<div>\n",
       "<style scoped>\n",
       "    .dataframe tbody tr th:only-of-type {\n",
       "        vertical-align: middle;\n",
       "    }\n",
       "\n",
       "    .dataframe tbody tr th {\n",
       "        vertical-align: top;\n",
       "    }\n",
       "\n",
       "    .dataframe thead th {\n",
       "        text-align: right;\n",
       "    }\n",
       "</style>\n",
       "<table border=\"1\" class=\"dataframe\">\n",
       "  <thead>\n",
       "    <tr style=\"text-align: right;\">\n",
       "      <th></th>\n",
       "      <th>1</th>\n",
       "      <th>2</th>\n",
       "      <th>4</th>\n",
       "      <th>5</th>\n",
       "      <th>6</th>\n",
       "      <th>7</th>\n",
       "      <th>8</th>\n",
       "      <th>9</th>\n",
       "      <th>10</th>\n",
       "      <th>11</th>\n",
       "      <th>12</th>\n",
       "    </tr>\n",
       "  </thead>\n",
       "  <tbody>\n",
       "    <tr>\n",
       "      <th>0</th>\n",
       "      <td>0.0</td>\n",
       "      <td>0.0</td>\n",
       "      <td>0.0</td>\n",
       "      <td>619.0</td>\n",
       "      <td>42.0</td>\n",
       "      <td>2.0</td>\n",
       "      <td>0.00</td>\n",
       "      <td>1.0</td>\n",
       "      <td>1.0</td>\n",
       "      <td>1.0</td>\n",
       "      <td>101348.88</td>\n",
       "    </tr>\n",
       "    <tr>\n",
       "      <th>1</th>\n",
       "      <td>0.0</td>\n",
       "      <td>1.0</td>\n",
       "      <td>0.0</td>\n",
       "      <td>608.0</td>\n",
       "      <td>41.0</td>\n",
       "      <td>1.0</td>\n",
       "      <td>83807.86</td>\n",
       "      <td>1.0</td>\n",
       "      <td>0.0</td>\n",
       "      <td>1.0</td>\n",
       "      <td>112542.58</td>\n",
       "    </tr>\n",
       "    <tr>\n",
       "      <th>2</th>\n",
       "      <td>0.0</td>\n",
       "      <td>0.0</td>\n",
       "      <td>0.0</td>\n",
       "      <td>502.0</td>\n",
       "      <td>42.0</td>\n",
       "      <td>8.0</td>\n",
       "      <td>159660.80</td>\n",
       "      <td>3.0</td>\n",
       "      <td>1.0</td>\n",
       "      <td>0.0</td>\n",
       "      <td>113931.57</td>\n",
       "    </tr>\n",
       "    <tr>\n",
       "      <th>3</th>\n",
       "      <td>0.0</td>\n",
       "      <td>0.0</td>\n",
       "      <td>0.0</td>\n",
       "      <td>699.0</td>\n",
       "      <td>39.0</td>\n",
       "      <td>1.0</td>\n",
       "      <td>0.00</td>\n",
       "      <td>2.0</td>\n",
       "      <td>0.0</td>\n",
       "      <td>0.0</td>\n",
       "      <td>93826.63</td>\n",
       "    </tr>\n",
       "    <tr>\n",
       "      <th>4</th>\n",
       "      <td>0.0</td>\n",
       "      <td>1.0</td>\n",
       "      <td>0.0</td>\n",
       "      <td>850.0</td>\n",
       "      <td>43.0</td>\n",
       "      <td>2.0</td>\n",
       "      <td>125510.82</td>\n",
       "      <td>1.0</td>\n",
       "      <td>1.0</td>\n",
       "      <td>1.0</td>\n",
       "      <td>79084.10</td>\n",
       "    </tr>\n",
       "    <tr>\n",
       "      <th>...</th>\n",
       "      <td>...</td>\n",
       "      <td>...</td>\n",
       "      <td>...</td>\n",
       "      <td>...</td>\n",
       "      <td>...</td>\n",
       "      <td>...</td>\n",
       "      <td>...</td>\n",
       "      <td>...</td>\n",
       "      <td>...</td>\n",
       "      <td>...</td>\n",
       "      <td>...</td>\n",
       "    </tr>\n",
       "    <tr>\n",
       "      <th>9995</th>\n",
       "      <td>0.0</td>\n",
       "      <td>0.0</td>\n",
       "      <td>1.0</td>\n",
       "      <td>771.0</td>\n",
       "      <td>39.0</td>\n",
       "      <td>5.0</td>\n",
       "      <td>0.00</td>\n",
       "      <td>2.0</td>\n",
       "      <td>1.0</td>\n",
       "      <td>0.0</td>\n",
       "      <td>96270.64</td>\n",
       "    </tr>\n",
       "    <tr>\n",
       "      <th>9996</th>\n",
       "      <td>0.0</td>\n",
       "      <td>0.0</td>\n",
       "      <td>1.0</td>\n",
       "      <td>516.0</td>\n",
       "      <td>35.0</td>\n",
       "      <td>10.0</td>\n",
       "      <td>57369.61</td>\n",
       "      <td>1.0</td>\n",
       "      <td>1.0</td>\n",
       "      <td>1.0</td>\n",
       "      <td>101699.77</td>\n",
       "    </tr>\n",
       "    <tr>\n",
       "      <th>9997</th>\n",
       "      <td>0.0</td>\n",
       "      <td>0.0</td>\n",
       "      <td>0.0</td>\n",
       "      <td>709.0</td>\n",
       "      <td>36.0</td>\n",
       "      <td>7.0</td>\n",
       "      <td>0.00</td>\n",
       "      <td>1.0</td>\n",
       "      <td>0.0</td>\n",
       "      <td>1.0</td>\n",
       "      <td>42085.58</td>\n",
       "    </tr>\n",
       "    <tr>\n",
       "      <th>9998</th>\n",
       "      <td>1.0</td>\n",
       "      <td>0.0</td>\n",
       "      <td>1.0</td>\n",
       "      <td>772.0</td>\n",
       "      <td>42.0</td>\n",
       "      <td>3.0</td>\n",
       "      <td>75075.31</td>\n",
       "      <td>2.0</td>\n",
       "      <td>1.0</td>\n",
       "      <td>0.0</td>\n",
       "      <td>92888.52</td>\n",
       "    </tr>\n",
       "    <tr>\n",
       "      <th>9999</th>\n",
       "      <td>0.0</td>\n",
       "      <td>0.0</td>\n",
       "      <td>0.0</td>\n",
       "      <td>792.0</td>\n",
       "      <td>28.0</td>\n",
       "      <td>4.0</td>\n",
       "      <td>130142.79</td>\n",
       "      <td>1.0</td>\n",
       "      <td>1.0</td>\n",
       "      <td>0.0</td>\n",
       "      <td>38190.78</td>\n",
       "    </tr>\n",
       "  </tbody>\n",
       "</table>\n",
       "<p>10000 rows × 11 columns</p>\n",
       "</div>"
      ],
      "text/plain": [
       "       1    2    4      5     6     7          8    9    10   11         12\n",
       "0     0.0  0.0  0.0  619.0  42.0   2.0       0.00  1.0  1.0  1.0  101348.88\n",
       "1     0.0  1.0  0.0  608.0  41.0   1.0   83807.86  1.0  0.0  1.0  112542.58\n",
       "2     0.0  0.0  0.0  502.0  42.0   8.0  159660.80  3.0  1.0  0.0  113931.57\n",
       "3     0.0  0.0  0.0  699.0  39.0   1.0       0.00  2.0  0.0  0.0   93826.63\n",
       "4     0.0  1.0  0.0  850.0  43.0   2.0  125510.82  1.0  1.0  1.0   79084.10\n",
       "...   ...  ...  ...    ...   ...   ...        ...  ...  ...  ...        ...\n",
       "9995  0.0  0.0  1.0  771.0  39.0   5.0       0.00  2.0  1.0  0.0   96270.64\n",
       "9996  0.0  0.0  1.0  516.0  35.0  10.0   57369.61  1.0  1.0  1.0  101699.77\n",
       "9997  0.0  0.0  0.0  709.0  36.0   7.0       0.00  1.0  0.0  1.0   42085.58\n",
       "9998  1.0  0.0  1.0  772.0  42.0   3.0   75075.31  2.0  1.0  0.0   92888.52\n",
       "9999  0.0  0.0  0.0  792.0  28.0   4.0  130142.79  1.0  1.0  0.0   38190.78\n",
       "\n",
       "[10000 rows x 11 columns]"
      ]
     },
     "execution_count": 170,
     "metadata": {},
     "output_type": "execute_result"
    }
   ],
   "source": [
    "df_transformed_x"
   ]
  },
  {
   "cell_type": "markdown",
   "metadata": {},
   "source": [
    "### For Preventing Multicollinearity delete 0 and 4"
   ]
  },
  {
   "cell_type": "code",
   "execution_count": 169,
   "metadata": {
    "scrolled": true
   },
   "outputs": [],
   "source": [
    "df_transformed_x.drop([0,3],axis=1,inplace=True)"
   ]
  },
  {
   "cell_type": "markdown",
   "metadata": {},
   "source": [
    "### Split Our Data to Train and Test"
   ]
  },
  {
   "cell_type": "code",
   "execution_count": 171,
   "metadata": {},
   "outputs": [],
   "source": [
    "from sklearn.model_selection import train_test_split\n",
    "x_train,x_test,y_train,y_test=train_test_split(df_transformed_x,y,\n",
    "                                               test_size=.2,\n",
    "                                               random_state=0)"
   ]
  },
  {
   "cell_type": "markdown",
   "metadata": {},
   "source": [
    "## because of large computing in ANN we need to Feature Scaling"
   ]
  },
  {
   "cell_type": "code",
   "execution_count": 174,
   "metadata": {},
   "outputs": [],
   "source": [
    "from sklearn.preprocessing import StandardScaler\n",
    "sc=StandardScaler()\n",
    "x_train=sc.fit_transform(x_train)"
   ]
  },
  {
   "cell_type": "code",
   "execution_count": 175,
   "metadata": {},
   "outputs": [
    {
     "data": {
      "text/plain": [
       "array([[-0.5698444 ,  1.74309049, -1.09168714, ...,  0.64259497,\n",
       "        -1.03227043,  1.10643166],\n",
       "       [ 1.75486502, -0.57369368,  0.91601335, ...,  0.64259497,\n",
       "         0.9687384 , -0.74866447],\n",
       "       [-0.5698444 , -0.57369368, -1.09168714, ...,  0.64259497,\n",
       "        -1.03227043,  1.48533467],\n",
       "       ...,\n",
       "       [-0.5698444 , -0.57369368,  0.91601335, ...,  0.64259497,\n",
       "        -1.03227043,  1.41231994],\n",
       "       [-0.5698444 ,  1.74309049, -1.09168714, ...,  0.64259497,\n",
       "         0.9687384 ,  0.84432121],\n",
       "       [ 1.75486502, -0.57369368, -1.09168714, ...,  0.64259497,\n",
       "        -1.03227043,  0.32472465]])"
      ]
     },
     "execution_count": 175,
     "metadata": {},
     "output_type": "execute_result"
    }
   ],
   "source": [
    "x_train"
   ]
  },
  {
   "cell_type": "code",
   "execution_count": 177,
   "metadata": {},
   "outputs": [],
   "source": [
    "x_test=sc.transform(x_test)"
   ]
  },
  {
   "cell_type": "markdown",
   "metadata": {},
   "source": [
    "# Building ANN Model"
   ]
  },
  {
   "cell_type": "code",
   "execution_count": 178,
   "metadata": {},
   "outputs": [],
   "source": [
    "import keras"
   ]
  },
  {
   "cell_type": "code",
   "execution_count": 179,
   "metadata": {},
   "outputs": [],
   "source": [
    "from keras.models import Sequential"
   ]
  },
  {
   "cell_type": "code",
   "execution_count": 180,
   "metadata": {},
   "outputs": [],
   "source": [
    "from keras.layers import Dense"
   ]
  },
  {
   "cell_type": "markdown",
   "metadata": {},
   "source": [
    "## Initializing The ANN\n",
    "as you remeber that wights will going to be near zero but not zero"
   ]
  },
  {
   "cell_type": "code",
   "execution_count": 181,
   "metadata": {},
   "outputs": [],
   "source": [
    "classifier=Sequential()"
   ]
  },
  {
   "cell_type": "markdown",
   "metadata": {},
   "source": [
    "### add layers\n",
    "we're goning too add input layer and first hidden layer\n",
    "\n",
    "`Dense Function`:\n",
    "\n",
    "`output_dim`,`Rule of thumbs`  number of nodes in hidden layer (output_dim):\n",
    "you can average between number of nodes in input layer and number of nodes in output layer but in reality or for getting better outcome yoy should use k-fold cross validation and tune your parameter.`note that the output_dim is changed to unit and you don't need to specify output_dim and just use the number`\n",
    "\n",
    "`kernel_initializer`:  value of weights for initializing should be uniform.\n",
    "\n",
    "`activation`:  activation function that we want to use, here for hidden layer we want to use rectifier actication function and fot output layer we want to use sigmoidactivation function ('relu':for rectifier)\n",
    "\n",
    "`input_dim`: because we just initialize our ANN and it does'nt know how many idependent var we have, and we don't specify input and output layer we should use this parameter for first hidden layer.\n",
    "## for more information about keras.Dense\n",
    "https://keras.io/api/layers/core_layers/dense/"
   ]
  },
  {
   "cell_type": "code",
   "execution_count": 184,
   "metadata": {},
   "outputs": [],
   "source": [
    "classifier.add(Dense(6,kernel_initializer=\"uniform\",activation=\"relu\",input_dim=11))"
   ]
  },
  {
   "cell_type": "markdown",
   "metadata": {},
   "source": [
    "### Add Second Hidden Layer\n",
    "\n",
    "As the Second Hidden layer get data from first hidden layer the we don't need to specify input_dim any more"
   ]
  },
  {
   "cell_type": "code",
   "execution_count": 185,
   "metadata": {},
   "outputs": [],
   "source": [
    "classifier.add(Dense(6,kernel_initializer=\"uniform\",activation=\"relu\"))"
   ]
  },
  {
   "cell_type": "markdown",
   "metadata": {},
   "source": [
    "## Add Output Layer\n",
    "\n",
    "`\"sigmoid\"for sigmoid activation function` and if you dealing with dependent var that have more than two categories first the output_dim set to number of classes and second activation function is \"softmax\" (it is indeed sigmoid function)"
   ]
  },
  {
   "cell_type": "code",
   "execution_count": 186,
   "metadata": {},
   "outputs": [],
   "source": [
    "classifier.add(Dense(1,kernel_initializer=\"uniform\",activation=\"sigmoid\"))"
   ]
  },
  {
   "cell_type": "markdown",
   "metadata": {},
   "source": [
    "## Compile the ANN\n",
    "\n",
    "`optimizer`:  the optimize method that we want to use to find out the best wights and \"adam\" is one of stochastic  gradient descent algorithm\n",
    "\n",
    "`loss`: loss function as the error will show here and we need to optimize it.\n",
    "if you have two categorical out come: loss function will be binary_crossentropy and if you have more than two categorical_crossentropy. note that this is only for sigmoid activation function and these losses are logaritmic. \n",
    "\n",
    "`metrics`: way that you choose to evaluate your model"
   ]
  },
  {
   "cell_type": "code",
   "execution_count": 187,
   "metadata": {},
   "outputs": [],
   "source": [
    "classifier.compile(optimizer=\"adam\",loss=\"binary_crossentropy\",metrics=[\"accuracy\"])"
   ]
  },
  {
   "cell_type": "markdown",
   "metadata": {},
   "source": [
    "## Train Our Model\n",
    "\n",
    "`Step 6 and Step 7`: Reinforment vs Batch Learning , number of epoch\n",
    "\n"
   ]
  },
  {
   "cell_type": "code",
   "execution_count": 189,
   "metadata": {},
   "outputs": [
    {
     "name": "stdout",
     "output_type": "stream",
     "text": [
      "Epoch 1/100\n",
      "800/800 [==============================] - 1s 971us/step - loss: 0.4796 - accuracy: 0.7960\n",
      "Epoch 2/100\n",
      "800/800 [==============================] - 1s 949us/step - loss: 0.4283 - accuracy: 0.7960\n",
      "Epoch 3/100\n",
      "800/800 [==============================] - 1s 915us/step - loss: 0.4207 - accuracy: 0.8094\n",
      "Epoch 4/100\n",
      "800/800 [==============================] - 1s 873us/step - loss: 0.4147 - accuracy: 0.8276\n",
      "Epoch 5/100\n",
      "800/800 [==============================] - 1s 909us/step - loss: 0.4100 - accuracy: 0.8322\n",
      "Epoch 6/100\n",
      "800/800 [==============================] - 1s 920us/step - loss: 0.4075 - accuracy: 0.8345\n",
      "Epoch 7/100\n",
      "800/800 [==============================] - 1s 879us/step - loss: 0.4045 - accuracy: 0.8344\n",
      "Epoch 8/100\n",
      "800/800 [==============================] - 1s 861us/step - loss: 0.4032 - accuracy: 0.8331\n",
      "Epoch 9/100\n",
      "800/800 [==============================] - 1s 869us/step - loss: 0.4025 - accuracy: 0.8347\n",
      "Epoch 10/100\n",
      "800/800 [==============================] - 1s 865us/step - loss: 0.4015 - accuracy: 0.8336\n",
      "Epoch 11/100\n",
      "800/800 [==============================] - 1s 844us/step - loss: 0.3997 - accuracy: 0.8369\n",
      "Epoch 12/100\n",
      "800/800 [==============================] - 1s 924us/step - loss: 0.3994 - accuracy: 0.8350\n",
      "Epoch 13/100\n",
      "800/800 [==============================] - 1s 980us/step - loss: 0.3987 - accuracy: 0.8350\n",
      "Epoch 14/100\n",
      "800/800 [==============================] - 1s 944us/step - loss: 0.3988 - accuracy: 0.8342\n",
      "Epoch 15/100\n",
      "800/800 [==============================] - 1s 894us/step - loss: 0.3983 - accuracy: 0.8331\n",
      "Epoch 16/100\n",
      "800/800 [==============================] - 1s 935us/step - loss: 0.3976 - accuracy: 0.8342\n",
      "Epoch 17/100\n",
      "800/800 [==============================] - 1s 966us/step - loss: 0.3973 - accuracy: 0.8346\n",
      "Epoch 18/100\n",
      "800/800 [==============================] - 1s 897us/step - loss: 0.3970 - accuracy: 0.8354\n",
      "Epoch 19/100\n",
      "800/800 [==============================] - 1s 924us/step - loss: 0.3968 - accuracy: 0.8332\n",
      "Epoch 20/100\n",
      "800/800 [==============================] - 1s 928us/step - loss: 0.3964 - accuracy: 0.8334\n",
      "Epoch 21/100\n",
      "800/800 [==============================] - 1s 931us/step - loss: 0.3961 - accuracy: 0.8338\n",
      "Epoch 22/100\n",
      "800/800 [==============================] - 1s 957us/step - loss: 0.3963 - accuracy: 0.8336\n",
      "Epoch 23/100\n",
      "800/800 [==============================] - 1s 900us/step - loss: 0.3952 - accuracy: 0.8344\n",
      "Epoch 24/100\n",
      "800/800 [==============================] - 1s 898us/step - loss: 0.3949 - accuracy: 0.8342\n",
      "Epoch 25/100\n",
      "800/800 [==============================] - 1s 930us/step - loss: 0.3954 - accuracy: 0.8344\n",
      "Epoch 26/100\n",
      "800/800 [==============================] - 1s 924us/step - loss: 0.3955 - accuracy: 0.8342\n",
      "Epoch 27/100\n",
      "800/800 [==============================] - 1s 926us/step - loss: 0.3957 - accuracy: 0.8339\n",
      "Epoch 28/100\n",
      "800/800 [==============================] - 1s 926us/step - loss: 0.3952 - accuracy: 0.8342\n",
      "Epoch 29/100\n",
      "800/800 [==============================] - 1s 984us/step - loss: 0.3952 - accuracy: 0.8344\n",
      "Epoch 30/100\n",
      "800/800 [==============================] - 1s 899us/step - loss: 0.3950 - accuracy: 0.8369\n",
      "Epoch 31/100\n",
      "800/800 [==============================] - 1s 939us/step - loss: 0.3942 - accuracy: 0.8339\n",
      "Epoch 32/100\n",
      "800/800 [==============================] - 1s 926us/step - loss: 0.3950 - accuracy: 0.8365\n",
      "Epoch 33/100\n",
      "800/800 [==============================] - 1s 929us/step - loss: 0.3951 - accuracy: 0.8356\n",
      "Epoch 34/100\n",
      "800/800 [==============================] - 1s 851us/step - loss: 0.3951 - accuracy: 0.8338\n",
      "Epoch 35/100\n",
      "800/800 [==============================] - 1s 878us/step - loss: 0.3945 - accuracy: 0.8354\n",
      "Epoch 36/100\n",
      "800/800 [==============================] - 1s 939us/step - loss: 0.3946 - accuracy: 0.8357\n",
      "Epoch 37/100\n",
      "800/800 [==============================] - 1s 888us/step - loss: 0.3945 - accuracy: 0.8353\n",
      "Epoch 38/100\n",
      "800/800 [==============================] - 1s 974us/step - loss: 0.3942 - accuracy: 0.8360\n",
      "Epoch 39/100\n",
      "800/800 [==============================] - 1s 891us/step - loss: 0.3947 - accuracy: 0.8355\n",
      "Epoch 40/100\n",
      "800/800 [==============================] - 1s 896us/step - loss: 0.3946 - accuracy: 0.8360\n",
      "Epoch 41/100\n",
      "800/800 [==============================] - 1s 871us/step - loss: 0.3941 - accuracy: 0.8370\n",
      "Epoch 42/100\n",
      "800/800 [==============================] - 1s 938us/step - loss: 0.3942 - accuracy: 0.8363\n",
      "Epoch 43/100\n",
      "800/800 [==============================] - 1s 976us/step - loss: 0.3941 - accuracy: 0.8361\n",
      "Epoch 44/100\n",
      "800/800 [==============================] - 1s 945us/step - loss: 0.3945 - accuracy: 0.8346\n",
      "Epoch 45/100\n",
      "800/800 [==============================] - 1s 934us/step - loss: 0.3940 - accuracy: 0.8361\n",
      "Epoch 46/100\n",
      "800/800 [==============================] - 1s 953us/step - loss: 0.3946 - accuracy: 0.8349\n",
      "Epoch 47/100\n",
      "800/800 [==============================] - 1s 991us/step - loss: 0.3936 - accuracy: 0.83590s - loss: 0.3890 - accu\n",
      "Epoch 48/100\n",
      "800/800 [==============================] - 1s 931us/step - loss: 0.3932 - accuracy: 0.8351\n",
      "Epoch 49/100\n",
      "800/800 [==============================] - 1s 971us/step - loss: 0.3935 - accuracy: 0.8344\n",
      "Epoch 50/100\n",
      "800/800 [==============================] - 1s 936us/step - loss: 0.3943 - accuracy: 0.8374\n",
      "Epoch 51/100\n",
      "800/800 [==============================] - 1s 955us/step - loss: 0.3935 - accuracy: 0.8374\n",
      "Epoch 52/100\n",
      "800/800 [==============================] - 1s 933us/step - loss: 0.3922 - accuracy: 0.8382\n",
      "Epoch 53/100\n",
      "800/800 [==============================] - 1s 933us/step - loss: 0.3923 - accuracy: 0.8382\n",
      "Epoch 54/100\n",
      "800/800 [==============================] - 1s 1ms/step - loss: 0.3898 - accuracy: 0.8374\n",
      "Epoch 55/100\n",
      "800/800 [==============================] - 1s 999us/step - loss: 0.3878 - accuracy: 0.8403\n",
      "Epoch 56/100\n",
      "800/800 [==============================] - 1s 872us/step - loss: 0.3848 - accuracy: 0.8389\n",
      "Epoch 57/100\n",
      "800/800 [==============================] - 1s 855us/step - loss: 0.3828 - accuracy: 0.8397\n",
      "Epoch 58/100\n",
      "800/800 [==============================] - 1s 887us/step - loss: 0.3793 - accuracy: 0.8400\n",
      "Epoch 59/100\n",
      "800/800 [==============================] - 1s 941us/step - loss: 0.3774 - accuracy: 0.8399\n",
      "Epoch 60/100\n",
      "800/800 [==============================] - 1s 851us/step - loss: 0.3752 - accuracy: 0.8388\n",
      "Epoch 61/100\n",
      "800/800 [==============================] - 1s 873us/step - loss: 0.3725 - accuracy: 0.8396\n",
      "Epoch 62/100\n",
      "800/800 [==============================] - 1s 913us/step - loss: 0.3702 - accuracy: 0.8400\n",
      "Epoch 63/100\n",
      "800/800 [==============================] - 1s 877us/step - loss: 0.3670 - accuracy: 0.8428\n",
      "Epoch 64/100\n",
      "800/800 [==============================] - 1s 853us/step - loss: 0.3634 - accuracy: 0.8491\n",
      "Epoch 65/100\n",
      "800/800 [==============================] - 1s 879us/step - loss: 0.3598 - accuracy: 0.8510\n",
      "Epoch 66/100\n",
      "800/800 [==============================] - 1s 871us/step - loss: 0.3576 - accuracy: 0.8549\n",
      "Epoch 67/100\n",
      "800/800 [==============================] - 1s 875us/step - loss: 0.3563 - accuracy: 0.8581\n",
      "Epoch 68/100\n",
      "800/800 [==============================] - 1s 910us/step - loss: 0.3546 - accuracy: 0.8580\n",
      "Epoch 69/100\n",
      "800/800 [==============================] - 1s 905us/step - loss: 0.3540 - accuracy: 0.8596\n",
      "Epoch 70/100\n",
      "800/800 [==============================] - 1s 884us/step - loss: 0.3533 - accuracy: 0.8580\n",
      "Epoch 71/100\n",
      "800/800 [==============================] - 1s 875us/step - loss: 0.3526 - accuracy: 0.8602\n",
      "Epoch 72/100\n",
      "800/800 [==============================] - 1s 910us/step - loss: 0.3519 - accuracy: 0.8591\n",
      "Epoch 73/100\n",
      "800/800 [==============================] - 1s 875us/step - loss: 0.3510 - accuracy: 0.8609\n",
      "Epoch 74/100\n",
      "800/800 [==============================] - 1s 875us/step - loss: 0.3508 - accuracy: 0.8625\n",
      "Epoch 75/100\n",
      "800/800 [==============================] - 1s 909us/step - loss: 0.3505 - accuracy: 0.8597\n",
      "Epoch 76/100\n",
      "800/800 [==============================] - 1s 911us/step - loss: 0.3493 - accuracy: 0.8609\n",
      "Epoch 77/100\n",
      "800/800 [==============================] - 1s 879us/step - loss: 0.3503 - accuracy: 0.8593\n",
      "Epoch 78/100\n",
      "800/800 [==============================] - 1s 865us/step - loss: 0.3490 - accuracy: 0.8612\n",
      "Epoch 79/100\n"
     ]
    },
    {
     "name": "stdout",
     "output_type": "stream",
     "text": [
      "800/800 [==============================] - 1s 891us/step - loss: 0.3492 - accuracy: 0.8597\n",
      "Epoch 80/100\n",
      "800/800 [==============================] - 1s 860us/step - loss: 0.3488 - accuracy: 0.8591\n",
      "Epoch 81/100\n",
      "800/800 [==============================] - 1s 870us/step - loss: 0.3488 - accuracy: 0.8608\n",
      "Epoch 82/100\n",
      "800/800 [==============================] - 1s 909us/step - loss: 0.3483 - accuracy: 0.8602\n",
      "Epoch 83/100\n",
      "800/800 [==============================] - 1s 935us/step - loss: 0.3474 - accuracy: 0.8600\n",
      "Epoch 84/100\n",
      "800/800 [==============================] - 1s 905us/step - loss: 0.3474 - accuracy: 0.8608\n",
      "Epoch 85/100\n",
      "800/800 [==============================] - ETA: 0s - loss: 0.3475 - accuracy: 0.86 - 1s 861us/step - loss: 0.3476 - accuracy: 0.8608\n",
      "Epoch 86/100\n",
      "800/800 [==============================] - 1s 877us/step - loss: 0.3468 - accuracy: 0.8604\n",
      "Epoch 87/100\n",
      "800/800 [==============================] - 1s 866us/step - loss: 0.3472 - accuracy: 0.8596\n",
      "Epoch 88/100\n",
      "800/800 [==============================] - 1s 879us/step - loss: 0.3477 - accuracy: 0.8620\n",
      "Epoch 89/100\n",
      "800/800 [==============================] - 1s 899us/step - loss: 0.3472 - accuracy: 0.8615\n",
      "Epoch 90/100\n",
      "800/800 [==============================] - 1s 885us/step - loss: 0.3462 - accuracy: 0.8600\n",
      "Epoch 91/100\n",
      "800/800 [==============================] - 1s 874us/step - loss: 0.3472 - accuracy: 0.8597\n",
      "Epoch 92/100\n",
      "800/800 [==============================] - 1s 896us/step - loss: 0.3462 - accuracy: 0.8600\n",
      "Epoch 93/100\n",
      "800/800 [==============================] - 1s 874us/step - loss: 0.3461 - accuracy: 0.8600\n",
      "Epoch 94/100\n",
      "800/800 [==============================] - 1s 885us/step - loss: 0.3460 - accuracy: 0.8602\n",
      "Epoch 95/100\n",
      "800/800 [==============================] - 1s 853us/step - loss: 0.3454 - accuracy: 0.8587\n",
      "Epoch 96/100\n",
      "800/800 [==============================] - 1s 857us/step - loss: 0.3459 - accuracy: 0.8602\n",
      "Epoch 97/100\n",
      "800/800 [==============================] - 1s 884us/step - loss: 0.3466 - accuracy: 0.8606\n",
      "Epoch 98/100\n",
      "800/800 [==============================] - 1s 866us/step - loss: 0.3456 - accuracy: 0.8608\n",
      "Epoch 99/100\n",
      "800/800 [==============================] - 1s 887us/step - loss: 0.3452 - accuracy: 0.8612\n",
      "Epoch 100/100\n",
      "800/800 [==============================] - 1s 899us/step - loss: 0.3458 - accuracy: 0.8595\n"
     ]
    },
    {
     "data": {
      "text/plain": [
       "<tensorflow.python.keras.callbacks.History at 0x1be79617eb0>"
      ]
     },
     "execution_count": 189,
     "metadata": {},
     "output_type": "execute_result"
    }
   ],
   "source": [
    "classifier.fit(x_train,y_train,batch_size=10,epochs=100)"
   ]
  },
  {
   "cell_type": "markdown",
   "metadata": {},
   "source": [
    "## Predict the test set"
   ]
  },
  {
   "cell_type": "code",
   "execution_count": 190,
   "metadata": {},
   "outputs": [],
   "source": [
    "y_pred=classifier.predict(x_test)"
   ]
  },
  {
   "cell_type": "code",
   "execution_count": 192,
   "metadata": {},
   "outputs": [
    {
     "data": {
      "text/plain": [
       "array([[0.23362735],\n",
       "       [0.3744532 ],\n",
       "       [0.1683062 ],\n",
       "       ...,\n",
       "       [0.22024369],\n",
       "       [0.15126762],\n",
       "       [0.19625965]], dtype=float32)"
      ]
     },
     "execution_count": 192,
     "metadata": {},
     "output_type": "execute_result"
    }
   ],
   "source": [
    "y_pred"
   ]
  },
  {
   "cell_type": "markdown",
   "metadata": {},
   "source": [
    "## Evaluate with Confusion Matrix\n",
    "\n",
    "First Convert the predicted result to True or False with Treshold function"
   ]
  },
  {
   "cell_type": "code",
   "execution_count": 193,
   "metadata": {},
   "outputs": [],
   "source": [
    "y_pred=(y_pred>.5)# this means more than .5 returns True othewise returns False"
   ]
  },
  {
   "cell_type": "code",
   "execution_count": 194,
   "metadata": {},
   "outputs": [
    {
     "data": {
      "text/plain": [
       "array([[False],\n",
       "       [False],\n",
       "       [False],\n",
       "       ...,\n",
       "       [False],\n",
       "       [False],\n",
       "       [False]])"
      ]
     },
     "execution_count": 194,
     "metadata": {},
     "output_type": "execute_result"
    }
   ],
   "source": [
    "y_pred"
   ]
  },
  {
   "cell_type": "code",
   "execution_count": 196,
   "metadata": {},
   "outputs": [
    {
     "name": "stdout",
     "output_type": "stream",
     "text": [
      "[[1519   76]\n",
      " [ 207  198]]\n",
      "0.8585\n"
     ]
    }
   ],
   "source": [
    "from sklearn.metrics import confusion_matrix,accuracy_score\n",
    "print(confusion_matrix(y_test,y_pred))\n",
    "print(accuracy_score(y_test,y_pred))"
   ]
  },
  {
   "cell_type": "markdown",
   "metadata": {},
   "source": [
    "#### it is almost the same accuracy that we get in the train score in model that shows we got a vey good accuracy"
   ]
  },
  {
   "cell_type": "code",
   "execution_count": null,
   "metadata": {},
   "outputs": [],
   "source": []
  }
 ],
 "metadata": {
  "kernelspec": {
   "display_name": "Python 3",
   "language": "python",
   "name": "python3"
  },
  "language_info": {
   "codemirror_mode": {
    "name": "ipython",
    "version": 3
   },
   "file_extension": ".py",
   "mimetype": "text/x-python",
   "name": "python",
   "nbconvert_exporter": "python",
   "pygments_lexer": "ipython3",
   "version": "3.8.3"
  }
 },
 "nbformat": 4,
 "nbformat_minor": 4
}
